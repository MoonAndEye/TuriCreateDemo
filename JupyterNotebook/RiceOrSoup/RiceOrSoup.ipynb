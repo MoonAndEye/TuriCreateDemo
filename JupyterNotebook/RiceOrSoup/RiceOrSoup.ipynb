{
 "cells": [
  {
   "cell_type": "code",
   "execution_count": 1,
   "metadata": {},
   "outputs": [],
   "source": [
    "import turicreate as turi"
   ]
  },
  {
   "cell_type": "code",
   "execution_count": 2,
   "metadata": {},
   "outputs": [
    {
     "data": {
      "text/html": [
       "<pre>Unsupported image format. Supported formats are JPEG and PNG\t file: dataset/.DS_Store</pre>"
      ],
      "text/plain": [
       "Unsupported image format. Supported formats are JPEG and PNG\t file: dataset/.DS_Store"
      ]
     },
     "metadata": {},
     "output_type": "display_data"
    },
    {
     "data": {
      "text/html": [
       "<pre>Unsupported image format. Supported formats are JPEG and PNG\t file: dataset/rice/.DS_Store</pre>"
      ],
      "text/plain": [
       "Unsupported image format. Supported formats are JPEG and PNG\t file: dataset/rice/.DS_Store"
      ]
     },
     "metadata": {},
     "output_type": "display_data"
    },
    {
     "data": {
      "text/html": [
       "<pre>Materializing SFrame</pre>"
      ],
      "text/plain": [
       "Materializing SFrame"
      ]
     },
     "metadata": {},
     "output_type": "display_data"
    }
   ],
   "source": [
    "url = \"dataset/\"\n",
    "\n",
    "data = turi.image_analysis.load_images(url)\n",
    "\n",
    "#如果他不是放在 rice 的 folder 內，他就是 soup\n",
    "data[\"foodType\"] = data[\"path\"].apply(lambda path: \"Rice\" if \"rice\" in path else \"Soup\")\n",
    "\n",
    "data.save(\"rice_or_soup.sframe\")\n",
    "\n",
    "data.explore()"
   ]
  },
  {
   "cell_type": "code",
   "execution_count": 3,
   "metadata": {},
   "outputs": [
    {
     "name": "stdout",
     "output_type": "stream",
     "text": [
      "Downloading https://docs-assets.developer.apple.com/turicreate/models/resnet-50-symbol.json\n",
      "Download completed: /var/folders/wb/kqfdkj0j0p7bk25rrj55404r0000gp/T/model_cache/resnet-50-symbol.json\n",
      "Downloading https://docs-assets.developer.apple.com/turicreate/models/resnet-50-0000.params\n",
      "Download completed: /var/folders/wb/kqfdkj0j0p7bk25rrj55404r0000gp/T/model_cache/resnet-50-0000.params\n"
     ]
    },
    {
     "data": {
      "text/html": [
       "<pre>Analyzing and extracting image features.</pre>"
      ],
      "text/plain": [
       "Analyzing and extracting image features."
      ]
     },
     "metadata": {},
     "output_type": "display_data"
    },
    {
     "data": {
      "text/html": [
       "<pre>+------------------+--------------+------------------+</pre>"
      ],
      "text/plain": [
       "+------------------+--------------+------------------+"
      ]
     },
     "metadata": {},
     "output_type": "display_data"
    },
    {
     "data": {
      "text/html": [
       "<pre>| Images Processed | Elapsed Time | Percent Complete |</pre>"
      ],
      "text/plain": [
       "| Images Processed | Elapsed Time | Percent Complete |"
      ]
     },
     "metadata": {},
     "output_type": "display_data"
    },
    {
     "data": {
      "text/html": [
       "<pre>+------------------+--------------+------------------+</pre>"
      ],
      "text/plain": [
       "+------------------+--------------+------------------+"
      ]
     },
     "metadata": {},
     "output_type": "display_data"
    },
    {
     "data": {
      "text/html": [
       "<pre>| 64               | 8.26s        | 20%              |</pre>"
      ],
      "text/plain": [
       "| 64               | 8.26s        | 20%              |"
      ]
     },
     "metadata": {},
     "output_type": "display_data"
    },
    {
     "data": {
      "text/html": [
       "<pre>| 128              | 15.18s       | 40%              |</pre>"
      ],
      "text/plain": [
       "| 128              | 15.18s       | 40%              |"
      ]
     },
     "metadata": {},
     "output_type": "display_data"
    },
    {
     "data": {
      "text/html": [
       "<pre>| 192              | 22.59s       | 60%              |</pre>"
      ],
      "text/plain": [
       "| 192              | 22.59s       | 60%              |"
      ]
     },
     "metadata": {},
     "output_type": "display_data"
    },
    {
     "data": {
      "text/html": [
       "<pre>| 256              | 29.43s       | 80%              |</pre>"
      ],
      "text/plain": [
       "| 256              | 29.43s       | 80%              |"
      ]
     },
     "metadata": {},
     "output_type": "display_data"
    },
    {
     "data": {
      "text/html": [
       "<pre>| 269              | 30.92s       | 100%             |</pre>"
      ],
      "text/plain": [
       "| 269              | 30.92s       | 100%             |"
      ]
     },
     "metadata": {},
     "output_type": "display_data"
    },
    {
     "data": {
      "text/html": [
       "<pre>+------------------+--------------+------------------+</pre>"
      ],
      "text/plain": [
       "+------------------+--------------+------------------+"
      ]
     },
     "metadata": {},
     "output_type": "display_data"
    },
    {
     "name": "stdout",
     "output_type": "stream",
     "text": [
      "PROGRESS: Creating a validation set from 5 percent of training data. This may take a while.\n",
      "          You can set ``validation_set=None`` to disable validation tracking.\n",
      "\n"
     ]
    },
    {
     "data": {
      "text/html": [
       "<pre>Logistic regression:</pre>"
      ],
      "text/plain": [
       "Logistic regression:"
      ]
     },
     "metadata": {},
     "output_type": "display_data"
    },
    {
     "data": {
      "text/html": [
       "<pre>--------------------------------------------------------</pre>"
      ],
      "text/plain": [
       "--------------------------------------------------------"
      ]
     },
     "metadata": {},
     "output_type": "display_data"
    },
    {
     "data": {
      "text/html": [
       "<pre>Number of examples          : 253</pre>"
      ],
      "text/plain": [
       "Number of examples          : 253"
      ]
     },
     "metadata": {},
     "output_type": "display_data"
    },
    {
     "data": {
      "text/html": [
       "<pre>Number of classes           : 2</pre>"
      ],
      "text/plain": [
       "Number of classes           : 2"
      ]
     },
     "metadata": {},
     "output_type": "display_data"
    },
    {
     "data": {
      "text/html": [
       "<pre>Number of feature columns   : 1</pre>"
      ],
      "text/plain": [
       "Number of feature columns   : 1"
      ]
     },
     "metadata": {},
     "output_type": "display_data"
    },
    {
     "data": {
      "text/html": [
       "<pre>Number of unpacked features : 2048</pre>"
      ],
      "text/plain": [
       "Number of unpacked features : 2048"
      ]
     },
     "metadata": {},
     "output_type": "display_data"
    },
    {
     "data": {
      "text/html": [
       "<pre>Number of coefficients      : 2049</pre>"
      ],
      "text/plain": [
       "Number of coefficients      : 2049"
      ]
     },
     "metadata": {},
     "output_type": "display_data"
    },
    {
     "data": {
      "text/html": [
       "<pre>Starting L-BFGS</pre>"
      ],
      "text/plain": [
       "Starting L-BFGS"
      ]
     },
     "metadata": {},
     "output_type": "display_data"
    },
    {
     "data": {
      "text/html": [
       "<pre>--------------------------------------------------------</pre>"
      ],
      "text/plain": [
       "--------------------------------------------------------"
      ]
     },
     "metadata": {},
     "output_type": "display_data"
    },
    {
     "data": {
      "text/html": [
       "<pre>+-----------+----------+-----------+--------------+-------------------+---------------------+</pre>"
      ],
      "text/plain": [
       "+-----------+----------+-----------+--------------+-------------------+---------------------+"
      ]
     },
     "metadata": {},
     "output_type": "display_data"
    },
    {
     "data": {
      "text/html": [
       "<pre>| Iteration | Passes   | Step size | Elapsed Time | Training Accuracy | Validation Accuracy |</pre>"
      ],
      "text/plain": [
       "| Iteration | Passes   | Step size | Elapsed Time | Training Accuracy | Validation Accuracy |"
      ]
     },
     "metadata": {},
     "output_type": "display_data"
    },
    {
     "data": {
      "text/html": [
       "<pre>+-----------+----------+-----------+--------------+-------------------+---------------------+</pre>"
      ],
      "text/plain": [
       "+-----------+----------+-----------+--------------+-------------------+---------------------+"
      ]
     },
     "metadata": {},
     "output_type": "display_data"
    },
    {
     "data": {
      "text/html": [
       "<pre>| 0         | 1        | NaN       | 0.072842     | 0.501976          | 0.625000            |</pre>"
      ],
      "text/plain": [
       "| 0         | 1        | NaN       | 0.072842     | 0.501976          | 0.625000            |"
      ]
     },
     "metadata": {},
     "output_type": "display_data"
    },
    {
     "data": {
      "text/html": [
       "<pre>| 1         | 5        | 0.000988  | 0.223053     | 0.861660          | 0.812500            |</pre>"
      ],
      "text/plain": [
       "| 1         | 5        | 0.000988  | 0.223053     | 0.861660          | 0.812500            |"
      ]
     },
     "metadata": {},
     "output_type": "display_data"
    },
    {
     "data": {
      "text/html": [
       "<pre>| 2         | 7        | 1.000000  | 0.305062     | 0.932806          | 0.875000            |</pre>"
      ],
      "text/plain": [
       "| 2         | 7        | 1.000000  | 0.305062     | 0.932806          | 0.875000            |"
      ]
     },
     "metadata": {},
     "output_type": "display_data"
    },
    {
     "data": {
      "text/html": [
       "<pre>| 3         | 8        | 1.000000  | 0.359476     | 0.976285          | 1.000000            |</pre>"
      ],
      "text/plain": [
       "| 3         | 8        | 1.000000  | 0.359476     | 0.976285          | 1.000000            |"
      ]
     },
     "metadata": {},
     "output_type": "display_data"
    },
    {
     "data": {
      "text/html": [
       "<pre>| 4         | 9        | 1.000000  | 0.406825     | 0.984190          | 1.000000            |</pre>"
      ],
      "text/plain": [
       "| 4         | 9        | 1.000000  | 0.406825     | 0.984190          | 1.000000            |"
      ]
     },
     "metadata": {},
     "output_type": "display_data"
    },
    {
     "data": {
      "text/html": [
       "<pre>| 5         | 10       | 1.000000  | 0.457597     | 0.984190          | 1.000000            |</pre>"
      ],
      "text/plain": [
       "| 5         | 10       | 1.000000  | 0.457597     | 0.984190          | 1.000000            |"
      ]
     },
     "metadata": {},
     "output_type": "display_data"
    },
    {
     "data": {
      "text/html": [
       "<pre>| 10        | 15       | 1.000000  | 0.664506     | 1.000000          | 1.000000            |</pre>"
      ],
      "text/plain": [
       "| 10        | 15       | 1.000000  | 0.664506     | 1.000000          | 1.000000            |"
      ]
     },
     "metadata": {},
     "output_type": "display_data"
    },
    {
     "data": {
      "text/html": [
       "<pre>+-----------+----------+-----------+--------------+-------------------+---------------------+</pre>"
      ],
      "text/plain": [
       "+-----------+----------+-----------+--------------+-------------------+---------------------+"
      ]
     },
     "metadata": {},
     "output_type": "display_data"
    },
    {
     "data": {
      "text/html": [
       "<pre>Completed (Iteration limit reached).</pre>"
      ],
      "text/plain": [
       "Completed (Iteration limit reached)."
      ]
     },
     "metadata": {},
     "output_type": "display_data"
    },
    {
     "data": {
      "text/html": [
       "<pre>This model may not be optimal. To improve it, consider increasing `max_iterations`.</pre>"
      ],
      "text/plain": [
       "This model may not be optimal. To improve it, consider increasing `max_iterations`."
      ]
     },
     "metadata": {},
     "output_type": "display_data"
    },
    {
     "data": {
      "text/html": [
       "<pre>Analyzing and extracting image features.</pre>"
      ],
      "text/plain": [
       "Analyzing and extracting image features."
      ]
     },
     "metadata": {},
     "output_type": "display_data"
    },
    {
     "data": {
      "text/html": [
       "<pre>+------------------+--------------+------------------+</pre>"
      ],
      "text/plain": [
       "+------------------+--------------+------------------+"
      ]
     },
     "metadata": {},
     "output_type": "display_data"
    },
    {
     "data": {
      "text/html": [
       "<pre>| Images Processed | Elapsed Time | Percent Complete |</pre>"
      ],
      "text/plain": [
       "| Images Processed | Elapsed Time | Percent Complete |"
      ]
     },
     "metadata": {},
     "output_type": "display_data"
    },
    {
     "data": {
      "text/html": [
       "<pre>+------------------+--------------+------------------+</pre>"
      ],
      "text/plain": [
       "+------------------+--------------+------------------+"
      ]
     },
     "metadata": {},
     "output_type": "display_data"
    },
    {
     "data": {
      "text/html": [
       "<pre>| 30               | 3.54s        | 100%             |</pre>"
      ],
      "text/plain": [
       "| 30               | 3.54s        | 100%             |"
      ]
     },
     "metadata": {},
     "output_type": "display_data"
    },
    {
     "data": {
      "text/html": [
       "<pre>+------------------+--------------+------------------+</pre>"
      ],
      "text/plain": [
       "+------------------+--------------+------------------+"
      ]
     },
     "metadata": {},
     "output_type": "display_data"
    },
    {
     "name": "stdout",
     "output_type": "stream",
     "text": [
      "1.0\n"
     ]
    }
   ],
   "source": [
    "#把資料以 9 : 1 切成 training 和 testing\n",
    "\n",
    "dataBuffer = turi.SFrame(\"rice_or_soup.sframe\")\n",
    "\n",
    "trainingBuffers, testingBuffers = dataBuffer.random_split(0.9)\n",
    "\n",
    "# 你可以選擇用 Squeezenet 或 resnet-50 架構生出 model, Squeezenet 檔案小,但 Resnet 辨識率比較高\n",
    "# model = turi.image_classifier.create(trainingBuffers, target=\"foodType\", model=\"squeezenet_v1.1\")\n",
    "\n",
    "model = turi.image_classifier.create(trainingBuffers, target=\"foodType\", model=\"resnet-50\")\n",
    "\n",
    "evaluations = model.evaluate(testingBuffers)\n",
    "print evaluations[\"accuracy\"]\n",
    "\n",
    "model.save(\"rice_or_soup.model\")\n",
    "model.export_coreml(\"RiceSoupClassifier.mlmodel\")"
   ]
  }
 ],
 "metadata": {
  "kernelspec": {
   "display_name": "TuriCreate",
   "language": "python",
   "name": "turicreate"
  },
  "language_info": {
   "codemirror_mode": {
    "name": "ipython",
    "version": 2
   },
   "file_extension": ".py",
   "mimetype": "text/x-python",
   "name": "python",
   "nbconvert_exporter": "python",
   "pygments_lexer": "ipython2",
   "version": "2.7.10"
  }
 },
 "nbformat": 4,
 "nbformat_minor": 2
}
